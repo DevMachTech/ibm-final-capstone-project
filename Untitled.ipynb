{
 "cells": [
  {
   "cell_type": "markdown",
   "metadata": {},
   "source": [
    "# Segmentation and Recomendation System for the Manhattan Borough. \n",
    "\n",
    "## Table of content\n",
    "\n",
    "\n",
    "<div >\n",
    "    <ol>\n",
    "        <li>Introduction </li>\n",
    "        <li>Getting the Data</li>\n",
    "        <ul>\n",
    "        <li>Cleaning and Preprocessing  </li>\n",
    "            <li>Visualizing data on folium map</li>\n",
    "        </ul>\n",
    "        <li>Methodology</li>\n",
    "        <ul>\n",
    "          <li>K Means Clustering</li>\n",
    "         <li>Content-Based Filtering</li>\n",
    "        </ul>\n",
    "        <li>Results</li>\n",
    "        <li>Discussion section</li>\n",
    "        <li>Conclusion section</li>\n",
    "    </ol>\n",
    "</div>\n",
    "<br>"
   ]
  },
  {
   "cell_type": "markdown",
   "metadata": {},
   "source": [
    "# Introduction\n",
    "\n",
    "We have been hired by humtourist.co, a tourism company, to build a segmentaion and recommendation system for their clients to ensure they have the best experince during their stay in manhattan, New York city. Part of this job includes recommending the best places/neighbourhood for different activities ranging from relaxations, busy areas, restaurants, parks etc."
   ]
  },
  {
   "cell_type": "code",
   "execution_count": 1,
   "metadata": {},
   "outputs": [
    {
     "name": "stdout",
     "output_type": "stream",
     "text": [
      "Libraries imported.\n"
     ]
    }
   ],
   "source": [
    "#Import necessary libraries for the project\n",
    "import sys\n",
    "\n",
    "import numpy as np # library to handle data in a vectorized manner\n",
    "\n",
    "import pandas as pd # library for data analsysis\n",
    "pd.set_option('display.max_columns', None)\n",
    "pd.set_option('display.max_rows', None)\n",
    "\n",
    "import json # library to handle JSON files\n",
    "\n",
    "#!conda install -c conda-forge geopy --yes # uncomment this line if you haven't completed the Foursquare API lab\n",
    "from geopy.geocoders import Nominatim # convert an address into latitude and longitude values\n",
    "\n",
    "import requests # library to handle requests\n",
    "from pandas.io.json import json_normalize # tranform JSON file into a pandas dataframe\n",
    "\n",
    "# Matplotlib and associated plotting modules\n",
    "import matplotlib.cm as cm\n",
    "import matplotlib.colors as colors\n",
    "\n",
    "# import k-means from clustering stage\n",
    "from sklearn.cluster import KMeans\n",
    "import folium # map rendering library\n",
    "\n",
    "print('Libraries imported.')"
   ]
  },
  {
   "cell_type": "code",
   "execution_count": null,
   "metadata": {},
   "outputs": [],
   "source": []
  }
 ],
 "metadata": {
  "kernelspec": {
   "display_name": "Python 3",
   "language": "python",
   "name": "python3"
  },
  "language_info": {
   "codemirror_mode": {
    "name": "ipython",
    "version": 3
   },
   "file_extension": ".py",
   "mimetype": "text/x-python",
   "name": "python",
   "nbconvert_exporter": "python",
   "pygments_lexer": "ipython3",
   "version": "3.8.1"
  }
 },
 "nbformat": 4,
 "nbformat_minor": 4
}
